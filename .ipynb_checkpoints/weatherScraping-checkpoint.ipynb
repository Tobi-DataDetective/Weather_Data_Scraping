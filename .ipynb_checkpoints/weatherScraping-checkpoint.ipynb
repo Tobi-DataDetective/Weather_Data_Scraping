{
 "cells": [
  {
   "cell_type": "code",
   "execution_count": 1,
   "metadata": {},
   "outputs": [
    {
     "ename": "ModuleNotFoundError",
     "evalue": "No module named 'pandas'",
     "output_type": "error",
     "traceback": [
      "\u001b[1;31m---------------------------------------------------------------------------\u001b[0m",
      "\u001b[1;31mModuleNotFoundError\u001b[0m                       Traceback (most recent call last)",
      "Cell \u001b[1;32mIn[1], line 3\u001b[0m\n\u001b[0;32m      1\u001b[0m \u001b[38;5;66;03m# importing libraries\u001b[39;00m\n\u001b[0;32m      2\u001b[0m \u001b[38;5;28;01mimport\u001b[39;00m \u001b[38;5;21;01mos\u001b[39;00m\n\u001b[1;32m----> 3\u001b[0m \u001b[38;5;28;01mimport\u001b[39;00m \u001b[38;5;21;01mpandas\u001b[39;00m \u001b[38;5;28;01mas\u001b[39;00m \u001b[38;5;21;01mpd\u001b[39;00m\n\u001b[0;32m      4\u001b[0m \u001b[38;5;28;01mimport\u001b[39;00m \u001b[38;5;21;01mnumpy\u001b[39;00m \u001b[38;5;28;01mas\u001b[39;00m \u001b[38;5;21;01mnp\u001b[39;00m\n\u001b[0;32m      5\u001b[0m \u001b[38;5;28;01mimport\u001b[39;00m \u001b[38;5;21;01mglob\u001b[39;00m\n",
      "\u001b[1;31mModuleNotFoundError\u001b[0m: No module named 'pandas'"
     ]
    }
   ],
   "source": [
    "# importing libraries\n",
    "import os\n",
    "import pandas as pd\n",
    "import numpy as np\n",
    "import glob\n",
    "import psycopg2\n",
    "import sqlalchemy\n",
    "import shutil\n",
    "import glob\n",
    "import warnings\n",
    "from __future__ import absolute_import, division, print_function, unicode_literals\n",
    "import seaborn as sns\n",
    "\n",
    "import matplotlib as mpl\n",
    "import matplotlib.pyplot as plt\n",
    "\n",
    "from datetime import datetime\n",
    "\n",
    "from download import download\n",
    "import plotly.express as px\n",
    "\n",
    "\n",
    "warnings.filterwarnings(\"ignore\")\n",
    "\n",
    "\n",
    "\n",
    "from selenium.webdriver.support.ui import Select\n",
    "import time\n",
    "from selenium import webdriver\n",
    "import pandas as pd\n",
    "from selenium.webdriver.chrome.service import Service\n",
    "from selenium.webdriver.common.by import By\n",
    "import selenium\n",
    "from time import sleep\n",
    "from selenium.webdriver.common.keys import Keys\n",
    "\n",
    "\n",
    "\n",
    "from datetime import datetime\n",
    "import pandas as pd"
   ]
  },
  {
   "cell_type": "code",
   "execution_count": 2,
   "metadata": {},
   "outputs": [],
   "source": [
    "pd.reset_option('^display.', silent=True)\n",
    "# os.chdir(r\"C:\\\\Users\\\\Tobi\\\\Desktop\\\\New folder\\\\git\\\\Automatic_Data_Download\\\\Automate-Data-Download\\\\downloaded\")"
   ]
  },
  {
   "cell_type": "code",
   "execution_count": 3,
   "metadata": {},
   "outputs": [],
   "source": [
    "s=Service('C:\\\\Users\\\\Tobi\\\\Downloads\\\\chromedriver_win32.exe')\n",
    "web = 'https://www.timeanddate.com/weather/nigeria/lagos/historic'\n",
    "# path = 'C:/Users/Tobi/Downloads/chromedriver_win32.exe'\n",
    "driver = webdriver.Chrome(service=s)\n",
    "driver.get(web)\n",
    "driver.maximize_window()\n",
    "time.sleep(15)"
   ]
  },
  {
   "cell_type": "code",
   "execution_count": 4,
   "metadata": {},
   "outputs": [],
   "source": [
    "def num_of_rows():\n",
    "    rows = driver.find_elements(By.TAG_NAME, 'tr')\n",
    "    rows = rows[7:-1]\n",
    "    return len(rows)+1"
   ]
  },
  {
   "cell_type": "code",
   "execution_count": 5,
   "metadata": {},
   "outputs": [],
   "source": [
    "def merge_dataframes(df_list):\n",
    "    merged_df = pd.concat(df_list, ignore_index=True)\n",
    "    return merged_df"
   ]
  },
  {
   "cell_type": "code",
   "execution_count": null,
   "metadata": {},
   "outputs": [],
   "source": [
    "# text = btn.text"
   ]
  },
  {
   "cell_type": "code",
   "execution_count": null,
   "metadata": {},
   "outputs": [],
   "source": [
    "# import pandas as pd\n",
    "\n",
    "# # Split the text into lines\n",
    "# lines = text.split('\\n')\n",
    "\n",
    "# # Remove empty lines\n",
    "# lines = [line for line in lines if line]\n",
    "\n",
    "# # Create a list of dictionaries containing the data\n",
    "# data = []\n",
    "# for i in range(0, len(lines), 4):\n",
    "#     time = lines[i]\n",
    "#     date = lines[i+1] if ',' in lines[i+1] else ''\n",
    "#     temp = lines[i+1] if ',' not in lines[i+1] else lines[i+2]\n",
    "#     weather = lines[i+2] if ',' not in lines[i+2] else lines[i+3]\n",
    "#     wind = ''\n",
    "#     humidity = ''\n",
    "#     barometer = ''\n",
    "#     visibility = ''\n",
    "#     for s in weather.split(' '):\n",
    "#         if s.isdigit():\n",
    "#             if 'km/h' in weather:\n",
    "#                 wind = s + ' km/h ' + weather.split('km/h')[1]\n",
    "#             else:\n",
    "#                 humidity = s + '%'\n",
    "#         elif 'mbar' in s:\n",
    "#             barometer = s\n",
    "#         elif 'km' in s:\n",
    "#             visibility = s\n",
    "#     data.append({'Time': time, 'Date': date, 'Temp': temp, 'Weather': weather, \n",
    "#                  'Wind': wind, 'Humidity': humidity, 'Barometer': barometer, \n",
    "#                  'Visibility': visibility})\n",
    "\n",
    "# # Create a pandas dataframe from the data\n",
    "# df = pd.DataFrame(data)\n",
    "\n",
    "# # Print the dataframe\n",
    "# df\n"
   ]
  },
  {
   "cell_type": "code",
   "execution_count": null,
   "metadata": {},
   "outputs": [],
   "source": []
  },
  {
   "cell_type": "code",
   "execution_count": null,
   "metadata": {},
   "outputs": [],
   "source": [
    "rows = num_of_rows()"
   ]
  },
  {
   "cell_type": "code",
   "execution_count": 6,
   "metadata": {},
   "outputs": [],
   "source": [
    "def compile():\n",
    "    rows = num_of_rows()\n",
    "    day_time = []\n",
    "    for i in list(range(1,rows)):\n",
    "    #     time = driver.find_element(By.XPATH,'//*[@id=\"wt-his\"]/tbody/tr[1]/th')\n",
    "    #     time.text\n",
    "\n",
    "        time = driver.find_element(By.XPATH, f'//*[@id=\"wt-his\"]/tbody/tr[{i}]/th')\n",
    "        day_time.append(time.text)\n",
    "#     print(day_time)\n",
    "\n",
    "\n",
    "\n",
    "    temps = []\n",
    "    for i in list(range(1,rows)):\n",
    "    #     time = driver.find_element(By.XPATH,'//*[@id=\"wt-his\"]/tbody/tr[1]/th')\n",
    "    #     time.text\n",
    "\n",
    "        temp = driver.find_element(By.XPATH,f'//*[@id=\"wt-his\"]/tbody/tr[{i}]/td[2]')\n",
    "        temps.append(temp.text)\n",
    "#     print(temps)\n",
    "\n",
    "\n",
    "    weathers = []\n",
    "    for i in list(range(1,rows)):\n",
    "    #     time = driver.find_element(By.XPATH,'//*[@id=\"wt-his\"]/tbody/tr[1]/th')\n",
    "    #     time.text\n",
    "\n",
    "        weather = driver.find_element(By.XPATH,f'//*[@id=\"wt-his\"]/tbody/tr[{i}]/td[3]')\n",
    "        weathers.append(weather.text)\n",
    "#     print(weathers)\n",
    "\n",
    "\n",
    "\n",
    "    winds = []\n",
    "    for i in list(range(1,rows)):\n",
    "    #     time = driver.find_element(By.XPATH,'//*[@id=\"wt-his\"]/tbody/tr[1]/th')\n",
    "    #     time.text\n",
    "\n",
    "        wind = driver.find_element(By.XPATH,f'//*[@id=\"wt-his\"]/tbody/tr[{i}]/td[4]')\n",
    "        winds.append(wind.text)\n",
    "#     print(winds)\n",
    "\n",
    "\n",
    "\n",
    "    humidity = []\n",
    "    for i in list(range(1,rows)):\n",
    "    #     time = driver.find_element(By.XPATH,'//*[@id=\"wt-his\"]/tbody/tr[1]/th')\n",
    "    #     time.text\n",
    "\n",
    "        hum = driver.find_element(By.XPATH,f'//*[@id=\"wt-his\"]/tbody/tr[{i}]/td[6]')\n",
    "        humidity.append(hum.text)\n",
    "#     print(humidity)\n",
    "\n",
    "\n",
    "\n",
    "    barometer = []\n",
    "    for i in list(range(1,rows)):\n",
    "    #     time = driver.find_element(By.XPATH,'//*[@id=\"wt-his\"]/tbody/tr[1]/th')\n",
    "    #     time.text\n",
    "\n",
    "        baro = driver.find_element(By.XPATH,f'//*[@id=\"wt-his\"]/tbody/tr[{i}]/td[7]')\n",
    "        barometer.append(baro.text)\n",
    "#     print(barometer)\n",
    "\n",
    "\n",
    "    \n",
    "    data = {'Time': day_time, 'Temp': temps, 'Weather': weathers, 'Wind':winds, 'Humidity':humidity,'Barometer':barometer}\n",
    "\n",
    "    # Convert the dictionary into a DataFrame\n",
    "    df = pd.DataFrame(data)\n",
    "\n",
    "\n",
    "    df[['Time', 'Day']] = df['Time'].str.split('\\n', expand=True)\n",
    "#     df\n",
    "\n",
    "    df['Day'] = df['Day'].ffill()\n",
    "    \n",
    "    return df"
   ]
  },
  {
   "cell_type": "code",
   "execution_count": null,
   "metadata": {},
   "outputs": [],
   "source": [
    "# compile()"
   ]
  },
  {
   "cell_type": "code",
   "execution_count": 7,
   "metadata": {},
   "outputs": [],
   "source": [
    "def result():\n",
    "# page movements\n",
    "    links = driver.find_elements(By.TAG_NAME, 'a')\n",
    "    links = links[149:-37]\n",
    "    list_of_df = []\n",
    "    for i in list(range(0,len(links))):\n",
    "    #     print(i.text)\n",
    "        links[i].click()\n",
    "        sleep(15)\n",
    "        rows = num_of_rows()\n",
    "        df = compile()\n",
    "        list_of_df.append(df)\n",
    "    df = merge_dataframes(list_of_df)\n",
    "    return df"
   ]
  },
  {
   "cell_type": "code",
   "execution_count": 8,
   "metadata": {},
   "outputs": [
    {
     "data": {
      "text/html": [
       "<div>\n",
       "<style scoped>\n",
       "    .dataframe tbody tr th:only-of-type {\n",
       "        vertical-align: middle;\n",
       "    }\n",
       "\n",
       "    .dataframe tbody tr th {\n",
       "        vertical-align: top;\n",
       "    }\n",
       "\n",
       "    .dataframe thead th {\n",
       "        text-align: right;\n",
       "    }\n",
       "</style>\n",
       "<table border=\"1\" class=\"dataframe\">\n",
       "  <thead>\n",
       "    <tr style=\"text-align: right;\">\n",
       "      <th></th>\n",
       "      <th>Time</th>\n",
       "      <th>Temp</th>\n",
       "      <th>Weather</th>\n",
       "      <th>Wind</th>\n",
       "      <th>Humidity</th>\n",
       "      <th>Barometer</th>\n",
       "      <th>Day</th>\n",
       "    </tr>\n",
       "  </thead>\n",
       "  <tbody>\n",
       "    <tr>\n",
       "      <th>0</th>\n",
       "      <td>00:00</td>\n",
       "      <td>28 °C</td>\n",
       "      <td>Passing clouds.</td>\n",
       "      <td>7 km/h</td>\n",
       "      <td>94%</td>\n",
       "      <td>1012 mbar</td>\n",
       "      <td>Fri, 3 Mar</td>\n",
       "    </tr>\n",
       "    <tr>\n",
       "      <th>1</th>\n",
       "      <td>02:00</td>\n",
       "      <td>28 °C</td>\n",
       "      <td>Passing clouds.</td>\n",
       "      <td>7 km/h</td>\n",
       "      <td>94%</td>\n",
       "      <td>1011 mbar</td>\n",
       "      <td>Fri, 3 Mar</td>\n",
       "    </tr>\n",
       "    <tr>\n",
       "      <th>2</th>\n",
       "      <td>03:00</td>\n",
       "      <td>28 °C</td>\n",
       "      <td>Passing clouds.</td>\n",
       "      <td>7 km/h</td>\n",
       "      <td>89%</td>\n",
       "      <td>1010 mbar</td>\n",
       "      <td>Fri, 3 Mar</td>\n",
       "    </tr>\n",
       "    <tr>\n",
       "      <th>3</th>\n",
       "      <td>04:00</td>\n",
       "      <td>27 °C</td>\n",
       "      <td>Passing clouds.</td>\n",
       "      <td>7 km/h</td>\n",
       "      <td>94%</td>\n",
       "      <td>1010 mbar</td>\n",
       "      <td>Fri, 3 Mar</td>\n",
       "    </tr>\n",
       "    <tr>\n",
       "      <th>4</th>\n",
       "      <td>05:00</td>\n",
       "      <td>27 °C</td>\n",
       "      <td>Passing clouds.</td>\n",
       "      <td>No wind</td>\n",
       "      <td>94%</td>\n",
       "      <td>1009 mbar</td>\n",
       "      <td>Fri, 3 Mar</td>\n",
       "    </tr>\n",
       "    <tr>\n",
       "      <th>...</th>\n",
       "      <td>...</td>\n",
       "      <td>...</td>\n",
       "      <td>...</td>\n",
       "      <td>...</td>\n",
       "      <td>...</td>\n",
       "      <td>...</td>\n",
       "      <td>...</td>\n",
       "    </tr>\n",
       "    <tr>\n",
       "      <th>259</th>\n",
       "      <td>19:00</td>\n",
       "      <td>31 °C</td>\n",
       "      <td>Haze.</td>\n",
       "      <td>7 km/h</td>\n",
       "      <td>49%</td>\n",
       "      <td>1007 mbar</td>\n",
       "      <td>Thu, 16 Feb</td>\n",
       "    </tr>\n",
       "    <tr>\n",
       "      <th>260</th>\n",
       "      <td>20:00</td>\n",
       "      <td>30 °C</td>\n",
       "      <td>Haze.</td>\n",
       "      <td>6 km/h</td>\n",
       "      <td>52%</td>\n",
       "      <td>1008 mbar</td>\n",
       "      <td>Thu, 16 Feb</td>\n",
       "    </tr>\n",
       "    <tr>\n",
       "      <th>261</th>\n",
       "      <td>21:00</td>\n",
       "      <td>29 °C</td>\n",
       "      <td>Haze.</td>\n",
       "      <td>6 km/h</td>\n",
       "      <td>58%</td>\n",
       "      <td>1009 mbar</td>\n",
       "      <td>Thu, 16 Feb</td>\n",
       "    </tr>\n",
       "    <tr>\n",
       "      <th>262</th>\n",
       "      <td>22:00</td>\n",
       "      <td>28 °C</td>\n",
       "      <td>Haze.</td>\n",
       "      <td>4 km/h</td>\n",
       "      <td>62%</td>\n",
       "      <td>1010 mbar</td>\n",
       "      <td>Thu, 16 Feb</td>\n",
       "    </tr>\n",
       "    <tr>\n",
       "      <th>263</th>\n",
       "      <td>23:00</td>\n",
       "      <td>28 °C</td>\n",
       "      <td>Haze.</td>\n",
       "      <td>4 km/h</td>\n",
       "      <td>62%</td>\n",
       "      <td>1010 mbar</td>\n",
       "      <td>Thu, 16 Feb</td>\n",
       "    </tr>\n",
       "  </tbody>\n",
       "</table>\n",
       "<p>264 rows × 7 columns</p>\n",
       "</div>"
      ],
      "text/plain": [
       "      Time   Temp          Weather     Wind Humidity  Barometer          Day\n",
       "0    00:00  28 °C  Passing clouds.   7 km/h      94%  1012 mbar   Fri, 3 Mar\n",
       "1    02:00  28 °C  Passing clouds.   7 km/h      94%  1011 mbar   Fri, 3 Mar\n",
       "2    03:00  28 °C  Passing clouds.   7 km/h      89%  1010 mbar   Fri, 3 Mar\n",
       "3    04:00  27 °C  Passing clouds.   7 km/h      94%  1010 mbar   Fri, 3 Mar\n",
       "4    05:00  27 °C  Passing clouds.  No wind      94%  1009 mbar   Fri, 3 Mar\n",
       "..     ...    ...              ...      ...      ...        ...          ...\n",
       "259  19:00  31 °C            Haze.   7 km/h      49%  1007 mbar  Thu, 16 Feb\n",
       "260  20:00  30 °C            Haze.   6 km/h      52%  1008 mbar  Thu, 16 Feb\n",
       "261  21:00  29 °C            Haze.   6 km/h      58%  1009 mbar  Thu, 16 Feb\n",
       "262  22:00  28 °C            Haze.   4 km/h      62%  1010 mbar  Thu, 16 Feb\n",
       "263  23:00  28 °C            Haze.   4 km/h      62%  1010 mbar  Thu, 16 Feb\n",
       "\n",
       "[264 rows x 7 columns]"
      ]
     },
     "execution_count": 8,
     "metadata": {},
     "output_type": "execute_result"
    }
   ],
   "source": [
    "result()"
   ]
  },
  {
   "cell_type": "code",
   "execution_count": null,
   "metadata": {},
   "outputs": [],
   "source": []
  },
  {
   "cell_type": "code",
   "execution_count": null,
   "metadata": {},
   "outputs": [],
   "source": []
  },
  {
   "cell_type": "code",
   "execution_count": null,
   "metadata": {},
   "outputs": [],
   "source": []
  },
  {
   "cell_type": "code",
   "execution_count": null,
   "metadata": {},
   "outputs": [],
   "source": []
  },
  {
   "cell_type": "code",
   "execution_count": null,
   "metadata": {},
   "outputs": [],
   "source": []
  },
  {
   "cell_type": "code",
   "execution_count": null,
   "metadata": {},
   "outputs": [],
   "source": []
  },
  {
   "cell_type": "code",
   "execution_count": null,
   "metadata": {},
   "outputs": [],
   "source": [
    "links = links[149:-37]\n",
    "links"
   ]
  },
  {
   "cell_type": "code",
   "execution_count": null,
   "metadata": {},
   "outputs": [],
   "source": []
  },
  {
   "cell_type": "code",
   "execution_count": null,
   "metadata": {},
   "outputs": [],
   "source": []
  },
  {
   "cell_type": "code",
   "execution_count": null,
   "metadata": {},
   "outputs": [],
   "source": []
  },
  {
   "cell_type": "code",
   "execution_count": null,
   "metadata": {},
   "outputs": [],
   "source": [
    "# list(range(1,17))"
   ]
  },
  {
   "cell_type": "code",
   "execution_count": null,
   "metadata": {},
   "outputs": [],
   "source": [
    "# /html/body/div[5]/main/article/div[6]/div[3]/a[1]\n",
    "# /html/body/div[5]/main/article/div[6]/div[3]/a[2]\n",
    "# /html/body/div[5]/main/article/div[6]/div[3]/a[16]\n",
    "# for i in list(range(1,17)):\n",
    "#     page = driver.find_element(By.XPATH,f'/html/body/div[5]/main/article/div[6]/div[3]/a[{i}]')"
   ]
  },
  {
   "cell_type": "code",
   "execution_count": null,
   "metadata": {},
   "outputs": [],
   "source": [
    "# page = driver.find_element(By.XPATH,'/html/body/div[5]/main/article/div[6]/div[3]/a[2]')\n",
    "# page.click()"
   ]
  },
  {
   "cell_type": "code",
   "execution_count": null,
   "metadata": {},
   "outputs": [],
   "source": [
    "# links = driver.find_elements(By.TAG_NAME, 'a')\n",
    "# for i in links[150:]:\n",
    "#     print(i.text)\n"
   ]
  },
  {
   "cell_type": "code",
   "execution_count": null,
   "metadata": {
    "scrolled": false
   },
   "outputs": [],
   "source": [
    "links = driver.find_elements(By.TAG_NAME, 'a')\n",
    "links = links[149:-37]\n",
    "for i in links:\n",
    "\n",
    "    print(i.text)"
   ]
  },
  {
   "cell_type": "code",
   "execution_count": null,
   "metadata": {},
   "outputs": [],
   "source": [
    "list(range(1,len(links)+1))"
   ]
  },
  {
   "cell_type": "code",
   "execution_count": null,
   "metadata": {},
   "outputs": [],
   "source": [
    "links[0].click()"
   ]
  },
  {
   "cell_type": "code",
   "execution_count": null,
   "metadata": {},
   "outputs": [],
   "source": []
  },
  {
   "cell_type": "code",
   "execution_count": null,
   "metadata": {},
   "outputs": [],
   "source": [
    "rows = num_of_rows()"
   ]
  },
  {
   "cell_type": "code",
   "execution_count": null,
   "metadata": {},
   "outputs": [],
   "source": [
    "rows"
   ]
  },
  {
   "cell_type": "code",
   "execution_count": null,
   "metadata": {},
   "outputs": [],
   "source": [
    "day_time = []\n",
    "for i in list(range(1,rows)):\n",
    "#     time = driver.find_element(By.XPATH,'//*[@id=\"wt-his\"]/tbody/tr[1]/th')\n",
    "#     time.text\n",
    "\n",
    "    time = driver.find_element(By.XPATH, f'//*[@id=\"wt-his\"]/tbody/tr[{i}]/th')\n",
    "    day_time.append(time.text)\n",
    "print(day_time)\n",
    "\n",
    "\n",
    "\n",
    "temps = []\n",
    "for i in list(range(1,rows)):\n",
    "#     time = driver.find_element(By.XPATH,'//*[@id=\"wt-his\"]/tbody/tr[1]/th')\n",
    "#     time.text\n",
    "\n",
    "    temp = driver.find_element(By.XPATH,f'//*[@id=\"wt-his\"]/tbody/tr[{i}]/td[2]')\n",
    "    temps.append(temp.text)\n",
    "print(temps)\n",
    "\n",
    "\n",
    "weathers = []\n",
    "for i in list(range(1,rows)):\n",
    "#     time = driver.find_element(By.XPATH,'//*[@id=\"wt-his\"]/tbody/tr[1]/th')\n",
    "#     time.text\n",
    "\n",
    "    weather = driver.find_element(By.XPATH,f'//*[@id=\"wt-his\"]/tbody/tr[{i}]/td[3]')\n",
    "    weathers.append(weather.text)\n",
    "print(weathers)\n",
    "\n",
    "\n",
    "\n",
    "winds = []\n",
    "for i in list(range(1,rows)):\n",
    "#     time = driver.find_element(By.XPATH,'//*[@id=\"wt-his\"]/tbody/tr[1]/th')\n",
    "#     time.text\n",
    "\n",
    "    wind = driver.find_element(By.XPATH,f'//*[@id=\"wt-his\"]/tbody/tr[{i}]/td[4]')\n",
    "    winds.append(wind.text)\n",
    "print(winds)\n",
    "\n",
    "\n",
    "\n",
    "humidity = []\n",
    "for i in list(range(1,rows)):\n",
    "#     time = driver.find_element(By.XPATH,'//*[@id=\"wt-his\"]/tbody/tr[1]/th')\n",
    "#     time.text\n",
    "\n",
    "    hum = driver.find_element(By.XPATH,f'//*[@id=\"wt-his\"]/tbody/tr[{i}]/td[6]')\n",
    "    humidity.append(hum.text)\n",
    "print(humidity)\n",
    "\n",
    "\n",
    "\n",
    "barometer = []\n",
    "for i in list(range(1,rows)):\n",
    "#     time = driver.find_element(By.XPATH,'//*[@id=\"wt-his\"]/tbody/tr[1]/th')\n",
    "#     time.text\n",
    "\n",
    "    baro = driver.find_element(By.XPATH,f'//*[@id=\"wt-his\"]/tbody/tr[{i}]/td[7]')\n",
    "    barometer.append(baro.text)\n",
    "print(barometer)"
   ]
  },
  {
   "cell_type": "code",
   "execution_count": null,
   "metadata": {},
   "outputs": [],
   "source": []
  },
  {
   "cell_type": "code",
   "execution_count": null,
   "metadata": {},
   "outputs": [],
   "source": []
  },
  {
   "cell_type": "code",
   "execution_count": null,
   "metadata": {},
   "outputs": [],
   "source": [
    "row = driver.find_element(By.XPATH,'//*[@id=\"wt-his\"]/tbody/tr[1]')\n",
    "row.text"
   ]
  },
  {
   "cell_type": "code",
   "execution_count": null,
   "metadata": {},
   "outputs": [],
   "source": [
    "num = list(range(1,23))\n",
    "# for i in \n",
    "num\n",
    "for i in num:\n",
    "    "
   ]
  },
  {
   "cell_type": "code",
   "execution_count": null,
   "metadata": {},
   "outputs": [],
   "source": [
    "rows = driver.find_elements(By.TAG_NAME, 'tr')"
   ]
  },
  {
   "cell_type": "code",
   "execution_count": null,
   "metadata": {},
   "outputs": [],
   "source": [
    "for i in list(range(7,30)):\n",
    "    print(rows[i].text)"
   ]
  },
  {
   "cell_type": "code",
   "execution_count": null,
   "metadata": {},
   "outputs": [],
   "source": [
    "rows[i].text"
   ]
  },
  {
   "cell_type": "code",
   "execution_count": null,
   "metadata": {},
   "outputs": [],
   "source": [
    "tx = rows[7].text"
   ]
  },
  {
   "cell_type": "code",
   "execution_count": null,
   "metadata": {},
   "outputs": [],
   "source": [
    "tx"
   ]
  },
  {
   "cell_type": "code",
   "execution_count": null,
   "metadata": {},
   "outputs": [],
   "source": [
    "import re"
   ]
  },
  {
   "cell_type": "code",
   "execution_count": null,
   "metadata": {},
   "outputs": [],
   "source": [
    "tx.search('...',tx)"
   ]
  },
  {
   "cell_type": "code",
   "execution_count": null,
   "metadata": {},
   "outputs": [],
   "source": []
  }
 ],
 "metadata": {
  "kernelspec": {
   "display_name": "test",
   "language": "python",
   "name": "test"
  },
  "language_info": {
   "codemirror_mode": {
    "name": "ipython",
    "version": 3
   },
   "file_extension": ".py",
   "mimetype": "text/x-python",
   "name": "python",
   "nbconvert_exporter": "python",
   "pygments_lexer": "ipython3",
   "version": "3.8.8"
  }
 },
 "nbformat": 4,
 "nbformat_minor": 4
}
